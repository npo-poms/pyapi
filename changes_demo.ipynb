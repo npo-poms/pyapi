{
 "cells": [
  {
   "cell_type": "code",
   "execution_count": 1,
   "metadata": {
    "collapsed": false
   },
   "outputs": [],
   "source": [
    "from npoapi import Media\n",
    "import ijson\n",
    "from datetime import datetime\n",
    "client = Media(env=\"test\").configured_login(create_config_file=True)"
   ]
  },
  {
   "cell_type": "code",
   "execution_count": 2,
   "metadata": {
    "collapsed": false
   },
   "outputs": [],
   "source": [
    "objects = ijson.items(client.changes(stream=True, max_=100000), 'changes.item')"
   ]
  },
  {
   "cell_type": "code",
   "execution_count": 3,
   "metadata": {
    "collapsed": true
   },
   "outputs": [],
   "source": [
    "data = {}"
   ]
  },
  {
   "cell_type": "code",
   "execution_count": null,
   "metadata": {
    "collapsed": false
   },
   "outputs": [],
   "source": [
    "for o in objects:    \n",
    "    if \"media\" in o:\n",
    "        media = o[\"media\"]\n",
    "        for broadcaster in media[\"broadcasters\"]:\n",
    "            if \"sortDate\" in media:\n",
    "                sortDate = datetime.fromtimestamp(media[\"sortDate\"] / 1e3)\n",
    "                bid = broadcaster[\"id\"]\n",
    "                if not bid in data:\n",
    "                    data[bid] = []\n",
    "                data[bid].append(sortDate)"
   ]
  }
 ],
 "metadata": {
  "kernelspec": {
   "display_name": "Python 3",
   "language": "python",
   "name": "python3"
  },
  "language_info": {
   "codemirror_mode": {
    "name": "ipython",
    "version": 3
   },
   "file_extension": ".py",
   "mimetype": "text/x-python",
   "name": "python",
   "nbconvert_exporter": "python",
   "pygments_lexer": "ipython3",
   "version": "3.5.0"
  }
 },
 "nbformat": 4,
 "nbformat_minor": 0
}
