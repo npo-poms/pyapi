{
 "cells": [
  {
   "cell_type": "code",
   "execution_count": 1,
   "metadata": {
    "collapsed": false
   },
   "outputs": [],
   "source": [
    "from npoapi import Media\n",
    "import ijson\n",
    "from datetime import datetime\n",
    "import itertools\n",
    "client = Media(env=\"test\").configured_login()"
   ]
  },
  {
   "cell_type": "code",
   "execution_count": 2,
   "metadata": {
    "collapsed": false
   },
   "outputs": [],
   "source": [
    "objects = ijson.items(client.changes(stream=True, max_=100000), 'changes.item')"
   ]
  },
  {
   "cell_type": "code",
   "execution_count": 3,
   "metadata": {
    "collapsed": true
   },
   "outputs": [],
   "source": [
    "data = {}"
   ]
  },
  {
   "cell_type": "code",
   "execution_count": null,
   "metadata": {
    "collapsed": false
   },
   "outputs": [],
   "source": [
    "for o in objects:    \n",
    "    if \"media\" in o:\n",
    "        media = o[\"media\"]\n",
    "        for broadcaster in media[\"broadcasters\"]:\n",
    "            if \"sortDate\" in media:\n",
    "                sortDate = datetime.fromtimestamp(media[\"sortDate\"] / 1e3)\n",
    "                bid = broadcaster[\"id\"]\n",
    "                if not bid in data:\n",
    "                    data[bid] = []\n",
    "                data[bid].append(sortDate)"
   ]
  },
  {
   "cell_type": "code",
   "execution_count": 10,
   "metadata": {
    "collapsed": false
   },
   "outputs": [
    {
     "name": "stdout",
     "output_type": "stream",
     "text": [
      "ZVK 41\n",
      "OBBT 926\n",
      "RTOO 187\n",
      "MAX 6163\n",
      "VRT 1\n",
      "SOCU 20\n",
      "LLNK 31\n",
      "AVRO 5780\n",
      "IKON 310\n",
      "BNN 2977\n",
      "RAD3 210\n",
      "RVD 7\n",
      "RAD5 148\n",
      "VPRO 6562\n",
      "RAD6 482\n",
      "NOS 4700\n",
      "NED1 1\n",
      "RVU 50\n",
      "EO 19256\n",
      "RAD1 512\n",
      "KRNC 70\n",
      "NPO 269\n",
      "RAD4 50\n",
      "OWST 13\n",
      "NCRV 8291\n",
      "ROGE 264\n",
      "TROS 4178\n",
      "ROFR 317\n",
      "HUMA 344\n",
      "L1 479\n",
      "OHM 124\n",
      "RKK 461\n",
      "OFVL 57\n",
      "KRO 7162\n",
      "MO 56\n",
      "NPS 623\n",
      "NTR 7383\n",
      "VARA 4427\n",
      "JO 41\n",
      "AVTR 150\n",
      "ZAPL 44\n",
      "RAD2 144\n",
      "RTRM 232\n",
      "ZAPP 262\n",
      "POWN 1100\n",
      "BOS 215\n",
      "POGO 137\n",
      "WNL 1256\n",
      "RTNH 120\n",
      "FUNX 1741\n",
      "TELE 561\n",
      "PP 65\n",
      "RTUT 152\n",
      "RTDR 32\n",
      "NED2 1\n"
     ]
    }
   ],
   "source": [
    "for key in data:\n",
    "    print(key, len(data[key]))"
   ]
  }
 ],
 "metadata": {
  "kernelspec": {
   "display_name": "Python 3",
   "language": "python",
   "name": "python3"
  },
  "language_info": {
   "codemirror_mode": {
    "name": "ipython",
    "version": 3
   },
   "file_extension": ".py",
   "mimetype": "text/x-python",
   "name": "python",
   "nbconvert_exporter": "python",
   "pygments_lexer": "ipython3",
   "version": "3.5.0"
  }
 },
 "nbformat": 4,
 "nbformat_minor": 0
}
