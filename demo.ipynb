{
 "cells": [
  {
   "cell_type": "markdown",
   "metadata": {},
   "source": [
    "# Talking to the  NPO Frontend API with PYTHON\n",
    "\n",
    "You can instantiate a client like so"
   ]
  },
  {
   "cell_type": "code",
   "execution_count": 1,
   "metadata": {},
   "outputs": [],
   "source": [
    "from npoapi import Media\n",
    "import json"
   ]
  },
  {
   "cell_type": "code",
   "execution_count": 2,
   "metadata": {},
   "outputs": [],
   "source": [
    "client = Media(env=\"test\", debug=False).configured_login(create_config_file=True)"
   ]
  },
  {
   "cell_type": "markdown",
   "metadata": {},
   "source": [
    "The credentials where read from a config file. If that file would not have existed, the user would have been requested to provide the api key, secret and origin, and the config file would have been created then for the next time.\n",
    "\n",
    "The 'env' option influences to which api it will talk. It can be \"test\" (default), \"dev\" and \"prod\""
   ]
  },
  {
   "cell_type": "code",
   "execution_count": 3,
   "metadata": {},
   "outputs": [
    {
     "data": {
      "text/plain": [
       "'https://rs-test.poms.omroep.nl/v1'"
      ]
     },
     "execution_count": 3,
     "metadata": {},
     "output_type": "execute_result"
    }
   ],
   "source": [
    "client.url"
   ]
  },
  {
   "cell_type": "markdown",
   "metadata": {},
   "source": [
    "Now you can do actual requests"
   ]
  },
  {
   "cell_type": "code",
   "execution_count": 4,
   "metadata": {},
   "outputs": [
    {
     "name": "stdout",
     "output_type": "stream",
     "text": [
      "{\n",
      " \"scheduleEvents\": [\n",
      "  {\n",
      "   \"poProgID\": \"POMS_NTR_388772\",\n",
      "   \"start\": 1376395200000,\n",
      "   \"urnRef\": \"urn:vpro:media:program:28506247\",\n",
      "   \"guideDay\": 1376344800000,\n",
      "   \"duration\": 7200000,\n",
      "   \"midRef\": \"POMS_NTR_388772\",\n",
      "   \"channel\": \"RAD6\"\n",
      "  }\n",
      " ],\n",
      " \"creationDate\": 1376435075424,\n",
      " \"episodeOf\": [\n",
      "  {\n",
      "   \"added\": 1376435078278,\n",
      "   \"urnRef\": \"urn:vpro:media:group:13405810\",\n",
      "   \"highlighted\": false,\n",
      "   \"type\": \"SERIES\",\n",
      "   \"midRef\": \"AUTO_WINFRIEDDRAAITDOOR\",\n",
      "   \"index\": 1\n",
      "  }\n",
      " ],\n",
      " \"languages\": [],\n",
      " \"workflow\": \"PUBLISHED\",\n",
      " \"descriptions\": [\n",
      "  {\n",
      "   \"owner\": \"RADIOBOX\",\n",
      "   \"value\": \"Elke werkdag draait Winfried Baijens door op Radio 6 met de beste soul en jazz, nieuwe releases, Nederlands talent en de mooiste prijzen. Geen dag gaat voorbij zonder een thema dat veelal iets te maken heeft met de actualiteit. Voorwaarde is; het thema moet allitereren. Daar houdt Winfried namelijk van, allitereren.\\nVerder hoor je berichten van nationale en internationale sterren, luisteraars, betrokkenen bij het thema en muziekvrienden die Winfrieds voicemail inspreken. DJ Git Hyper is een vaste gast en Winfried maakt ook een muzikale kettingbrief. Vele grote namen uit de Nederlandse muziekwereld werkten al mee aan deze multitracks.\",\n",
      "   \"type\": \"MAIN\"\n",
      "  }\n",
      " ],\n",
      " \"email\": [\n",
      "  \"winfrieddraaitdoor@radio6.nl\"\n",
      " ],\n",
      " \"embeddable\": true,\n",
      " \"genres\": [],\n",
      " \"crids\": [\n",
      "  \"crid://broadcast.radiobox2/203820\"\n",
      " ],\n",
      " \"mid\": \"POMS_NTR_388772\",\n",
      " \"broadcasters\": [\n",
      "  {\n",
      "   \"id\": \"NTR\",\n",
      "   \"value\": \"NTR\"\n",
      "  }\n",
      " ],\n",
      " \"websites\": [\n",
      "  {\n",
      "   \"value\": \"http://www.radio6.nl/winfrieddraaitdoor\"\n",
      "  }\n",
      " ],\n",
      " \"predictions\": [\n",
      "  {\n",
      "   \"state\": \"REALIZED\",\n",
      "   \"platform\": \"INTERNETVOD\"\n",
      "  }\n",
      " ],\n",
      " \"urn\": \"urn:vpro:media:program:28506247\",\n",
      " \"publishDate\": 1496062156356,\n",
      " \"type\": \"BROADCAST\",\n",
      " \"countries\": [],\n",
      " \"locations\": [\n",
      "  {\n",
      "   \"workflow\": \"PUBLISHED\",\n",
      "   \"creationDate\": 1376435052113,\n",
      "   \"lastModified\": 1376435075571,\n",
      "   \"urn\": \"urn:vpro:media:location:28506251\",\n",
      "   \"owner\": \"RADIOBOX\",\n",
      "   \"duration\": 7200000,\n",
      "   \"avAttributes\": {\n",
      "    \"avFileFormat\": \"MP3\"\n",
      "   },\n",
      "   \"programUrl\": \"http://download.omroep.nl/audiologging/r6/2013/08/13/1400_1600_winfried_draait_door.mp3\"\n",
      "  }\n",
      " ],\n",
      " \"objectType\": \"program\",\n",
      " \"sortDate\": 1376395200000,\n",
      " \"avType\": \"AUDIO\",\n",
      " \"duration\": 7200000,\n",
      " \"titles\": [\n",
      "  {\n",
      "   \"owner\": \"RADIOBOX\",\n",
      "   \"value\": \"Winfried Draait Door\",\n",
      "   \"type\": \"MAIN\"\n",
      "  }\n",
      " ],\n",
      " \"images\": [\n",
      "  {\n",
      "   \"workflow\": \"PUBLISHED\",\n",
      "   \"imageUri\": \"urn:vpro:image:121034\",\n",
      "   \"creationDate\": 1376435059364,\n",
      "   \"lastModified\": 1376435075570,\n",
      "   \"type\": \"PICTURE\",\n",
      "   \"owner\": \"RADIOBOX\",\n",
      "   \"description\": \"Winfried Draait Door\",\n",
      "   \"highlighted\": false,\n",
      "   \"urn\": \"urn:vpro:media:image:28506249\",\n",
      "   \"title\": \"winfried_baijens.jpg\"\n",
      "  }\n",
      " ],\n",
      " \"descendantOf\": [\n",
      "  {\n",
      "   \"urnRef\": \"urn:vpro:media:group:13405810\",\n",
      "   \"midRef\": \"AUTO_WINFRIEDDRAAITDOOR\",\n",
      "   \"type\": \"SERIES\"\n",
      "  },\n",
      "  {\n",
      "   \"urnRef\": \"urn:vpro:media:group:14683553\",\n",
      "   \"midRef\": \"POMS_S_VPRO_171668\",\n",
      "   \"type\": \"ARCHIVE\"\n",
      "  },\n",
      "  {\n",
      "   \"urnRef\": \"urn:vpro:media:group:14921825\",\n",
      "   \"midRef\": \"POMS_S_VPRO_218686\",\n",
      "   \"type\": \"ARCHIVE\"\n",
      "  },\n",
      "  {\n",
      "   \"urnRef\": \"urn:vpro:media:group:20347947\",\n",
      "   \"midRef\": \"POMS_S_VPRO_117474\",\n",
      "   \"type\": \"PLAYLIST\"\n",
      "  }\n",
      " ],\n",
      " \"lastModified\": 1376435112166\n",
      "}\n"
     ]
    }
   ],
   "source": [
    "result = client.get(\"POMS_NTR_388772\") \n",
    "\n",
    "print(json.dumps(json.loads(result), indent=1))"
   ]
  },
  {
   "cell_type": "code",
   "execution_count": 5,
   "metadata": {
    "scrolled": true
   },
   "outputs": [
    {
     "name": "stderr",
     "output_type": "stream",
     "text": [
      "ERROR https://rs-test.poms.omroep.nl/v1/api/media/bla: 'GET' https://rs-test.poms.omroep.nl/v1/api/media/bla: Not Found (<class 'urllib.error.HTTPError'>)\n",
      "ERROR https://rs-test.poms.omroep.nl/v1/api/media/bla: {\"status\":404,\"message\":\"No media for mid bla\",\"cause\":\"javax.ws.rs.NotFoundException: No media for mid bla\\n\\tat nl.vpro.api.rs.v3.exception.Exceptions.notFound(Exceptions.java:22)\\n\\tat nl.vpro.api.rs.v3.media.MediaRestServiceImpl.getMediaHandleNotFound(MediaRestServiceImpl.java:686)\\n\\tat nl.vpro.api.rs.v3.media.MediaRestServiceImpl.load(MediaRestServiceImpl.java:169)\\n\\tat sun.reflect.GeneratedMethodAccessor302.invoke(Unknown Source)\\n\\tat sun.reflect.DelegatingMethodAccessorImpl.invoke(DelegatingMethodAccessorImpl.java:43)\\n\\tat java.lang.reflect.Method.invoke(Method.java:498)\\n\\tat org.jboss.resteasy.core.MethodInjectorImpl.invoke(MethodInjectorImpl.java:140)\\n\\tat org.jboss.resteasy.core.ResourceMethodInvoker.invokeOnTarget(ResourceMethodInvoker.java:294)\\n\\tat org.jboss.resteasy.core.ResourceMethodInvoker.invoke(ResourceMethodInvoker.java:248)\\n\\tat org.jboss.resteasy.core.ResourceMethodInvoker.invoke(ResourceMethodInvoker.java:235)\\n\\tat org.jboss.resteasy.core.SynchronousDispatcher.invoke(SynchronousDispatcher.java:398)\\n\\tat org.jboss.resteasy.core.SynchronousDispatcher.invoke(SynchronousDispatcher.java:205)\\n\\tat org.jboss.resteasy.plugins.server.servlet.ServletContainerDispatcher.service(ServletContainerDispatcher.java:221)\\n\\tat org.jboss.resteasy.plugins.server.servlet.HttpServletDispatcher.service(HttpServletDispatcher.java:56)\\n\\tat org.jboss.resteasy.plugins.server.servlet.HttpServletDispatcher.service(HttpServletDispatcher.java:51)\\n\\tat javax.servlet.http.HttpServlet.service(HttpServlet.java:729)\\n\\tat org.apache.catalina.core.ApplicationFilterChain.internalDoFilter(ApplicationFilterChain.java:291)\\n\\tat org.apache.catalina.core.ApplicationFilterChain.doFilter(ApplicationFilterChain.java:206)\\n\\tat org.apache.tomcat.websocket.server.WsFilter.doFilter(WsFilter.java:52)\\n\\tat org.apache.catalina.core.ApplicationFilterChain.internalDoFilter(ApplicationFilterChain.java:239)\\n\\tat org.apache.catalina.core.ApplicationFilterChain.doFilter(ApplicationFilterChain.java:206)\\n\\tat org.springframework.security.web.FilterChainProxy$VirtualFilterChain.doFilter(FilterChainProxy.java:317)\\n\\tat org.springframework.security.web.access.intercept.FilterSecurityInterceptor.invoke(FilterSecurityInterceptor.java:127)\\n\\tat org.springframework.security.web.access.intercept.FilterSecurityInterceptor.doFilter(FilterSecurityInterceptor.java:91)\\n\\tat org.springframework.security.web.FilterChainProxy$VirtualFilterChain.doFilter(FilterChainProxy.java:331)\\n\\tat org.springframework.security.web.access.ExceptionTranslationFilter.doFilter(ExceptionTranslationFilter.java:114)\\n\\tat org.springframework.security.web.FilterChainProxy$VirtualFilterChain.doFilter(FilterChainProxy.java:331)\\n\\tat org.springframework.security.web.session.SessionManagementFilter.doFilter(SessionManagementFilter.java:137)\\n\\tat org.springframework.security.web.FilterChainProxy$VirtualFilterChain.doFilter(FilterChainProxy.java:331)\\n\\tat org.springframework.security.web.authentication.AnonymousAuthenticationFilter.doFilter(AnonymousAuthenticationFilter.java:111)\\n\\tat org.springframework.security.web.FilterChainProxy$VirtualFilterChain.doFilter(FilterChainProxy.java:331)\\n\\tat org.springframework.security.web.servletapi.SecurityContextHolderAwareRequestFilter.doFilter(SecurityContextHolderAwareRequestFilter.java:170)\\n\\tat org.springframework.security.web.FilterChainProxy$VirtualFilterChain.doFilter(FilterChainProxy.java:331)\\n\\tat org.springframework.security.web.savedrequest.RequestCacheAwareFilter.doFilter(RequestCacheAwareFilter.java:63)\\n\\tat org.springframework.security.web.FilterChainProxy$VirtualFilterChain.doFilter(FilterChainProxy.java:331)\\n\\tat nl.vpro.api.security.ApiAuthenticationFilter.successfulAuthentication(ApiAuthenticationFilter.java:107)\\n\\tat org.springframework.security.web.authentication.AbstractAuthenticationProcessingFilter.doFilter(AbstractAuthenticationProcessingFilter.java:240)\\n\\tat nl.vpro.api.security.ApiAuthenticationFilter.doFilter(ApiAuthenticationFilter.java:57)\\n\\tat org.springframework.security.web.FilterChainProxy$VirtualFilterChain.doFilter(FilterChainProxy.java:331)\\n\\tat org.springframework.security.web.authentication.AbstractAuthenticationProcessingFilter.doFilter(AbstractAuthenticationProcessingFilter.java:200)\\n\\tat org.springframework.security.web.FilterChainProxy$VirtualFilterChain.doFilter(FilterChainProxy.java:331)\\n\\tat org.jasig.cas.client.session.SingleSignOutFilter.doFilter(SingleSignOutFilter.java:97)\\n\\tat org.springframework.security.web.FilterChainProxy$VirtualFilterChain.doFilter(FilterChainProxy.java:331)\\n\\tat org.springframework.security.web.header.HeaderWriterFilter.doFilterInternal(HeaderWriterFilter.java:64)\\n\\tat org.springframework.web.filter.OncePerRequestFilter.doFilter(OncePerRequestFilter.java:107)\\n\\tat org.springframework.security.web.FilterChainProxy$VirtualFilterChain.doFilter(FilterChainProxy.java:331)\\n\\tat org.springframework.security.web.context.request.async.WebAsyncManagerIntegrationFilter.doFilterInternal(WebAsyncManagerIntegrationFilter.java:56)\\n\\tat org.springframework.web.filter.OncePerRequestFilter.doFilter(OncePerRequestFilter.java:107)\\n\\tat org.springframework.security.web.FilterChainProxy$VirtualFilterChain.doFilter(FilterChainProxy.java:331)\\n\\tat org.springframework.security.web.context.SecurityContextPersistenceFilter.doFilter(SecurityContextPersistenceFilter.java:105)\\n\\tat org.springframework.security.web.FilterChainProxy$VirtualFilterChain.doFilter(FilterChainProxy.java:331)\\n\\tat org.springframework.security.web.FilterChainProxy.doFilterInternal(FilterChainProxy.java:214)\\n\\tat org.springframework.security.web.FilterChainProxy.doFilter(FilterChainProxy.java:177)\\n\\tat org.springframework.web.filter.DelegatingFilterProxy.invokeDelegate(DelegatingFilterProxy.java:346)\\n\\tat org.springframework.web.filter.DelegatingFilterProxy.doFilter(DelegatingFilterProxy.java:262)\\n\\tat org.apache.catalina.core.ApplicationFilterChain.internalDoFilter(ApplicationFilterChain.java:239)\\n\\tat org.apache.catalina.core.ApplicationFilterChain.doFilter(ApplicationFilterChain.java:206)\\n\\tat nl.vpro.api.rs.v3.filter.MediaFilterThreadLocalFilter.doFilter(MediaFilterThreadLocalFilter.java:41)\\n\\tat org.apache.catalina.core.ApplicationFilterChain.internalDoFilter(ApplicationFilterChain.java:239)\\n\\tat org.apache.catalina.core.ApplicationFilterChain.doFilter(ApplicationFilterChain.java:206)\\n\\tat org.apache.catalina.core.StandardWrapperValve.invoke(StandardWrapperValve.java:212)\\n\\tat org.apache.catalina.core.StandardContextValve.invoke(StandardContextValve.java:106)\\n\\tat org.apache.catalina.authenticator.AuthenticatorBase.invoke(AuthenticatorBase.java:502)\\n\\tat org.apache.catalina.core.StandardHostValve.invoke(StandardHostValve.java:141)\\n\\tat org.apache.catalina.valves.ErrorReportValve.invoke(ErrorReportValve.java:79)\\n\\tat org.apache.catalina.core.StandardEngineValve.invoke(StandardEngineValve.java:88)\\n\\tat org.apache.catalina.valves.AbstractAccessLogValve.invoke(AbstractAccessLogValve.java:616)\\n\\tat org.apache.catalina.connector.CoyoteAdapter.service(CoyoteAdapter.java:521)\\n\\tat org.apache.coyote.ajp.AbstractAjpProcessor.process(AbstractAjpProcessor.java:850)\\n\\tat org.apache.coyote.AbstractProtocol$AbstractConnectionHandler.process(AbstractProtocol.java:674)\\n\\tat org.apache.tomcat.util.net.AprEndpoint$SocketProcessor.doRun(AprEndpoint.java:2500)\\n\\tat org.apache.tomcat.util.net.AprEndpoint$SocketProcessor.run(AprEndpoint.java:2489)\\n\\tat java.util.concurrent.ThreadPoolExecutor.runWorker(ThreadPoolExecutor.java:1149)\\n\\tat java.util.concurrent.ThreadPoolExecutor$Worker.run(ThreadPoolExecutor.java:624)\\n\\tat org.apache.tomcat.util.threads.TaskThread$WrappingRunnable.run(TaskThread.java:61)\\n\\tat java.lang.Thread.run(Thread.java:748)\\n\"}\n"
     ]
    },
    {
     "data": {
      "text/plain": [
       "''"
      ]
     },
     "execution_count": 5,
     "metadata": {},
     "output_type": "execute_result"
    }
   ],
   "source": [
    "client.get(\"bla\")"
   ]
  },
  {
   "cell_type": "code",
   "execution_count": null,
   "metadata": {},
   "outputs": [],
   "source": []
  },
  {
   "cell_type": "code",
   "execution_count": null,
   "metadata": {},
   "outputs": [],
   "source": []
  }
 ],
 "metadata": {
  "kernelspec": {
   "display_name": "Python 3",
   "language": "python",
   "name": "python3"
  },
  "language_info": {
   "codemirror_mode": {
    "name": "ipython",
    "version": 3
   },
   "file_extension": ".py",
   "mimetype": "text/x-python",
   "name": "python",
   "nbconvert_exporter": "python",
   "pygments_lexer": "ipython3",
   "version": "3.5.2"
  }
 },
 "nbformat": 4,
 "nbformat_minor": 1
}
