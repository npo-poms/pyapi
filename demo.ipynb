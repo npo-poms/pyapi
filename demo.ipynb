{
 "cells": [
  {
   "cell_type": "markdown",
   "metadata": {},
   "source": [
    "# Talking to the  NPO Frontend API with PYTHON\n",
    "\n",
    "You can instantiate a client like so"
   ]
  },
  {
   "cell_type": "code",
   "execution_count": 1,
   "metadata": {},
   "outputs": [],
   "source": [
    "from npoapi import Media"
   ]
  },
  {
   "cell_type": "code",
   "execution_count": 2,
   "metadata": {},
   "outputs": [],
   "source": [
    "client = Media(env=\"test\").configured_login(create_config_file=True)"
   ]
  },
  {
   "cell_type": "markdown",
   "metadata": {},
   "source": [
    "The credentials where read from a config file. If that file would not have existed, the user would have been requested to provide the api key, secret and origin, and the config file would have been created then for the next time.\n",
    "\n",
    "The 'env' option influences to which api it will talk. It can be \"test\" (default), \"dev\" and \"prod\""
   ]
  },
  {
   "cell_type": "code",
   "execution_count": 3,
   "metadata": {},
   "outputs": [
    {
     "data": {
      "text/plain": [
       "'https://rs-test.poms.omroep.nl/v1'"
      ]
     },
     "execution_count": 3,
     "metadata": {},
     "output_type": "execute_result"
    }
   ],
   "source": [
    "client.url"
   ]
  },
  {
   "cell_type": "markdown",
   "metadata": {},
   "source": [
    "Now you can do actual requests"
   ]
  },
  {
   "cell_type": "code",
   "execution_count": 4,
   "metadata": {},
   "outputs": [
    {
     "data": {
      "text/plain": [
       "'{\"objectType\":\"program\",\"mid\":\"POMS_NTR_388772\",\"type\":\"BROADCAST\",\"avType\":\"AUDIO\",\"workflow\":\"PUBLISHED\",\"sortDate\":1376395200000,\"creationDate\":1376435075424,\"lastModified\":1376435112166,\"urn\":\"urn:vpro:media:program:28506247\",\"embeddable\":true,\"episodeOf\":[{\"midRef\":\"AUTO_WINFRIEDDRAAITDOOR\",\"urnRef\":\"urn:vpro:media:group:13405810\",\"type\":\"SERIES\",\"index\":1,\"highlighted\":false,\"added\":1376435078278}],\"crids\":[\"crid://broadcast.radiobox2/203820\"],\"broadcasters\":[{\"id\":\"NTR\",\"value\":\"NTR\"}],\"titles\":[{\"value\":\"Winfried Draait Door\",\"owner\":\"RADIOBOX\",\"type\":\"MAIN\"}],\"descriptions\":[{\"value\":\"Elke werkdag draait Winfried Baijens door op Radio 6 met de beste soul en jazz, nieuwe releases, Nederlands talent en de mooiste prijzen. Geen dag gaat voorbij zonder een thema dat veelal iets te maken heeft met de actualiteit. Voorwaarde is; het thema moet allitereren. Daar houdt Winfried namelijk van, allitereren.\\\\nVerder hoor je berichten van nationale en internationale sterren, luisteraars, betrokkenen bij het thema en muziekvrienden die Winfrieds voicemail inspreken. DJ Git Hyper is een vaste gast en Winfried maakt ook een muzikale kettingbrief. Vele grote namen uit de Nederlandse muziekwereld werkten al mee aan deze multitracks.\",\"owner\":\"RADIOBOX\",\"type\":\"MAIN\"}],\"genres\":[],\"countries\":[],\"languages\":[],\"duration\":7200000,\"descendantOf\":[{\"midRef\":\"AUTO_WINFRIEDDRAAITDOOR\",\"urnRef\":\"urn:vpro:media:group:13405810\",\"type\":\"SERIES\"},{\"midRef\":\"POMS_S_VPRO_171668\",\"urnRef\":\"urn:vpro:media:group:14683553\",\"type\":\"ARCHIVE\"},{\"midRef\":\"POMS_S_VPRO_218686\",\"urnRef\":\"urn:vpro:media:group:14921825\",\"type\":\"ARCHIVE\"},{\"midRef\":\"POMS_S_VPRO_117474\",\"urnRef\":\"urn:vpro:media:group:20347947\",\"type\":\"PLAYLIST\"}],\"email\":[\"winfrieddraaitdoor@radio6.nl\"],\"websites\":[{\"value\":\"http://www.radio6.nl/winfrieddraaitdoor\"}],\"predictions\":[{\"state\":\"REALIZED\",\"platform\":\"INTERNETVOD\"}],\"locations\":[{\"programUrl\":\"http://download.omroep.nl/audiologging/r6/2013/08/13/1400_1600_winfried_draait_door.mp3\",\"avAttributes\":{\"avFileFormat\":\"MP3\"},\"duration\":7200000,\"owner\":\"RADIOBOX\",\"creationDate\":1376435052113,\"lastModified\":1376435075571,\"workflow\":\"PUBLISHED\",\"urn\":\"urn:vpro:media:location:28506251\"}],\"scheduleEvents\":[{\"start\":1376395200000,\"duration\":7200000,\"poProgID\":\"POMS_NTR_388772\",\"channel\":\"RAD6\",\"urnRef\":\"urn:vpro:media:program:28506247\",\"midRef\":\"POMS_NTR_388772\"}],\"images\":[{\"title\":\"winfried_baijens.jpg\",\"description\":\"Winfried Draait Door\",\"imageUri\":\"urn:vpro:image:121034\",\"owner\":\"RADIOBOX\",\"type\":\"PICTURE\",\"highlighted\":false,\"creationDate\":1376435059364,\"lastModified\":1376435075570,\"workflow\":\"PUBLISHED\",\"urn\":\"urn:vpro:media:image:28506249\"}]}'"
      ]
     },
     "execution_count": 4,
     "metadata": {},
     "output_type": "execute_result"
    }
   ],
   "source": [
    "client.get(\"POMS_NTR_388772\")"
   ]
  },
  {
   "cell_type": "code",
   "execution_count": null,
   "metadata": {},
   "outputs": [],
   "source": [
    "client.get(\"bla\")"
   ]
  },
  {
   "cell_type": "code",
   "execution_count": null,
   "metadata": {},
   "outputs": [],
   "source": [
    ""
   ]
  }
 ],
 "metadata": {
  "kernelspec": {
   "display_name": "Python 3",
   "language": "python",
   "name": "python3"
  },
  "language_info": {
   "codemirror_mode": {
    "name": "ipython",
    "version": 3
   },
   "file_extension": ".py",
   "mimetype": "text/x-python",
   "name": "python",
   "nbconvert_exporter": "python",
   "pygments_lexer": "ipython3",
   "version": "3.5.0"
  }
 },
 "nbformat": 4,
 "nbformat_minor": 0
}
